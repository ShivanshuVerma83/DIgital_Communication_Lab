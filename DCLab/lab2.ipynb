{
 "cells": [
  {
   "cell_type": "code",
   "execution_count": 1,
   "metadata": {},
   "outputs": [
    {
     "name": "stdout",
     "output_type": "stream",
     "text": [
      "1.1916126235973414\n",
      "[0.09659514]\n",
      "[[array([3.12289479]), array([-0.77513096])], [array([2.96808741]), array([1.41746388])]]\n",
      "[3.48245841 3.34819082 4.47990842 3.49341563 2.58493039]\n",
      "[1 1 0 1 1 0 0]\n",
      "[-5, -5, 5, -5, 5, -5, -5, 5, -5, -5]\n",
      "[ 5  5 -5  5 -5  5  5 -5  5  5]\n",
      "[ 5.72866899  5.31351551 -5.31746191  4.99375635 -4.76743683  6.47133204\n",
      "  5.07645595 -3.86712242  3.84037909  4.97370888]\n"
     ]
    }
   ],
   "source": [
    "import numpy.random as nr\n",
    "import numpy as np\n",
    "\n",
    "# Generate a single Gaussian random variable with mean 0 and standard deviation 1\n",
    "print(nr.normal())\n",
    "\n",
    "# Generate a single Gaussian random variable with mean 1 and standard deviation 1\n",
    "b = nr.normal(1, 1, 1)\n",
    "print(b)\n",
    "\n",
    "# Generate a 2x2 array of Gaussian random variables with mean 3 and standard deviation 5^0.5\n",
    "c = []\n",
    "for i in range(2):\n",
    "    k = []\n",
    "    for j in range(2):\n",
    "        k.append(nr.normal(3, 5**0.5, 1))\n",
    "    c.append(k)\n",
    "print(c)\n",
    "\n",
    "# Generate white Gaussian noise\n",
    "# Generate a uniform random variable between 2 and 5, repeated 5 times\n",
    "d = nr.uniform(2, 5, 5)\n",
    "print(d)\n",
    "\n",
    "# Generate random integers between 0 and 4, repeated 5 times\n",
    "e = nr.randint(4, size=5)\n",
    "\n",
    "# Generate a random sequence of 1s and 0s of length 7\n",
    "f = nr.randint(0, 2, size=7)\n",
    "print(f)\n",
    "\n",
    "# Generate BPSK symbols with amplitude A=5\n",
    "A = 5\n",
    "g = nr.randint(0, 2, size=10)\n",
    "h = [1*A if i == 0 else i*(-A) for i in g]\n",
    "print(h)\n",
    "\n",
    "# Alternative way to generate BPSK symbols using array operations\n",
    "bpsk_symbols = 2 * g - 1\n",
    "i = A * bpsk_symbols\n",
    "print(i)\n",
    "\n",
    "# Generate Additive White Gaussian Noise (AWGN)\n",
    "snr_db = 10  # Signal-to-Noise Ratio in dB\n",
    "snr = 10 ** (snr_db / 10.0)  # Convert SNR from dB to linear scale\n",
    "noise_power = A**2 / (2 * snr)  # Calculate noise power based on SNR\n",
    "awgn = np.random.normal(0, np.sqrt(noise_power), len(i))\n",
    "received_symbols = i + awgn\n",
    "print(received_symbols)"
   ]
  },
  {
   "cell_type": "code",
   "execution_count": null,
   "metadata": {},
   "outputs": [],
   "source": []
  }
 ],
 "metadata": {
  "kernelspec": {
   "display_name": "Python 3",
   "language": "python",
   "name": "python3"
  },
  "language_info": {
   "codemirror_mode": {
    "name": "ipython",
    "version": 3
   },
   "file_extension": ".py",
   "mimetype": "text/x-python",
   "name": "python",
   "nbconvert_exporter": "python",
   "pygments_lexer": "ipython3",
   "version": "3.10.6"
  }
 },
 "nbformat": 4,
 "nbformat_minor": 2
}
